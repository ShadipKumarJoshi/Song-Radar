{
 "cells": [
  {
   "cell_type": "markdown",
   "metadata": {},
   "source": [
    "### **5. Song Recommender Test**\n",
    "\n",
    "A simple Python function that, given a song, looks up its cluster and recommends other songs in the same cluster."
   ]
  },
  {
   "cell_type": "code",
   "execution_count": 1,
   "metadata": {},
   "outputs": [],
   "source": [
    "import pandas as pd"
   ]
  },
  {
   "cell_type": "code",
   "execution_count": 2,
   "metadata": {},
   "outputs": [],
   "source": [
    "songs_df = pd.read_csv('../data/clean/7_clustered_dataset.csv')"
   ]
  },
  {
   "cell_type": "code",
   "execution_count": 6,
   "metadata": {},
   "outputs": [],
   "source": [
    "def recommend_songs(song_name, songs_df):\n",
    "    \"\"\"\n",
    "    Recommends songs that are in the same cluster as the given song.\n",
    "    \n",
    "    Parameters:\n",
    "    - song_name: The name of the song you want recommendations for.\n",
    "    - songs_df: DataFrame containing song data (including 'title', 'artist', and 'cluster' columns).\n",
    "    \n",
    "    Returns:\n",
    "    - A list of recommended songs in the format 'Song Title by Artist'.\n",
    "    \"\"\"\n",
    "    \n",
    "    song_row = songs_df[songs_df['title'] == song_name]\n",
    "    if song_row.empty:  # check if song exists\n",
    "        return f\"Song '{song_name}' not found in the database.\"\n",
    "    \n",
    "    song_cluster = song_row['cluster'].values[0]    # get cluster label\n",
    "    \n",
    "    same_cluster_songs = songs_df[songs_df['cluster'] == song_cluster]  # get songs in the same cluster\n",
    "    \n",
    "    recommended_songs = same_cluster_songs[same_cluster_songs['title'] != song_name]  # get recommended songs, excluding the input song\n",
    "    \n",
    "    recommendations = [f\"{row['title']} by {row['artist']}\" for _, row in recommended_songs.iterrows()]  # create a list of formatted song recommendations  \n",
    "    \n",
    "    return recommendations if recommendations else 'No other songs found in the same cluster.'"
   ]
  },
  {
   "cell_type": "code",
   "execution_count": 7,
   "metadata": {},
   "outputs": [
    {
     "name": "stdout",
     "output_type": "stream",
     "text": [
      "Recommended songs for 'It's All Wrong, but It's All Right':\n",
      "['Am I That Easy to Forget by Carl Belew', 'Damn That Radio - Live by The Wreckers', \"It's Four in the Morning by Faron Young\", 'The Other Side Of That Hill by Barbara Fairchild', 'Love Lifted Me by Eddy Raven', 'Boulevard In Heaven by Barbara Fairchild', \"I'll Come Running - Single Version by Connie Smith\", 'Light of a Clear Blue Morning by Dolly Parton', 'How Long Will It Take by Warner Mack', 'I Wanna Hear It From You - Digital Re-Recording by Eddy Raven', 'Raining On Our Love by Shania Twain', \"That Rock Won't Roll by Restless Heart\", \"I'm Not Worth the Tears by Dolly Parton\", 'Hey Joe by Carl Smith', 'In A Letter To You by Eddy Raven', 'Cincinnati, Ohio by Connie Smith', 'Like A Hurricane by Eddy Raven', 'I\\'m Throwing Rice (At the Girl I Love) - (Featured in the Columbia film \"Hoedown\") by Eddy Arnold', 'In The Sweet By And By by Deborah Allen', 'Jezebel - Stories Album Version by Barbara Fairchild', 'Angel Band by Porter Wagoner', 'It Makes No Difference Now by Billie Jo Spears', 'Letter to Heaven by Dolly Parton', 'Bad Seed by Jan Howard', 'Lizzie And The Rain Man by Billie Jo Spears', 'Wasted Days And Wasted Nights by Roy Drusky', 'When Jesus Comes Calling For Me by Dolly Parton', 'Making Believe - 1955 Single Version by Kitty Wells', 'Permanently Lonely by Billie Jo Spears', 'Old Shep by Red Foley', 'That Little Ole Wine Drinker Me - Original by Charlie Walker', 'This White Circle On My Finger by Kitty Wells', 'Biloxi by Kenny Price', 'I Will Always Love You by Deborah Allen', \"You're Welcome to Tonight - Duet with Lynn Anderson by Gary Morris\", 'Heart Of Dixie by Tommy Overstreet', 'Following You Around by Gail Davies', \"I'm Running Out Of Love by Dolly Parton\", 'Enclosed, One Broken Heart by Eddy Arnold', \"Let's Stop Talkin' About It by Janie Fricke\", 'Country Rose by Roy Drusky', \"Just a Little Lovin' (Will Go a Long, Long Way) by Eddy Arnold\", 'If I Talk to Him by Connie Smith', 'I Know That Car by Eddy Raven', 'Got The Bull By The Horns by Johnny Horton', \"I'll Meet You In The Morning by Barbara Fairchild\", \"Don't Say Goodbye by Rex Allen, Jr.\", \"If You Don't Somebody Else Will by Carl Smith\", 'If A Woman Answers (Hang Up The Phone) by Leroy Van Dyke', 'Just Between The Two Of Us by Charlie Louvin', \"I'm Thinking Tonight Of My Blue Eyes - Live by Dolly Parton\", 'Three Hearts in a Tangle by Roy Drusky', 'Worried Mind by Roy Drusky', 'The Woman I Need (Honky Tonk Mind) by Johnny Horton', 'If I Miss You Again Tonight by Tommy Overstreet', \"Choc'late Ice Cream Cone by Red Foley\", 'Two Hearts One Love by Shania Twain', \"Ruby Don't Take Your Love To Town by Ed Bruce\", 'Angel Fire by Eddy Raven', 'Love And Wealth by Charlie Louvin', \"If I Couldn't Hold Back The Dawn by Carl Smith\", 'Danny (Ruby Baby) by Billie Jo Spears', 'Misty Blue by Billie Jo Spears', 'Is It Wrong (For Loving You) by Warner Mack', 'Comfort Creek - Stories Album Version by Barbara Fairchild', 'Molly Darling by Eddy Arnold', \"I Can't Be Your Man by Porter Wagoner\", 'Second Hand Rose by Roy Drusky', 'I Could Use Another You - Digital Re-Recording by Eddy Raven', 'The Battle Of New Orleans by Johnny Horton', \"'57 Chevrolet by Billie Jo Spears\", 'My Pillow - Single Version by Roger Miller', 'Just One Time by Connie Smith', \"What's He Doin' In My World by Eddy Arnold\", 'Country Girl by Dottie West', 'Superman by Donna Fargo', 'The Golden Rocket by Johnny Horton', 'Husbands and Wives by Roger Miller', 'I Wonder Where You Are Tonight by Carl Smith', 'Funny How Time Slips Away by Roy Drusky', 'See The Big Man Cry by Charlie Louvin', \"I'll Be Yours by Faron Young\", 'Go And Wash Those Dirty Feet by Johnny Horton']\n"
     ]
    }
   ],
   "source": [
    "song_name = \"It's All Wrong, but It's All Right\"\n",
    "recommendations = recommend_songs(song_name, songs_df)\n",
    "\n",
    "print(f\"Recommended songs for '{song_name}':\")\n",
    "print(recommendations)"
   ]
  },
  {
   "cell_type": "code",
   "execution_count": 8,
   "metadata": {},
   "outputs": [
    {
     "name": "stdout",
     "output_type": "stream",
     "text": [
      "Recommended songs for 'It's All Wrong, but It's All Right':\n",
      "['Am I That Easy to Forget by Carl Belew', 'Damn That Radio - Live by The Wreckers', \"It's Four in the Morning by Faron Young\", 'The Other Side Of That Hill by Barbara Fairchild', 'Love Lifted Me by Eddy Raven', 'Boulevard In Heaven by Barbara Fairchild', \"I'll Come Running - Single Version by Connie Smith\", 'Light of a Clear Blue Morning by Dolly Parton', 'How Long Will It Take by Warner Mack', 'I Wanna Hear It From You - Digital Re-Recording by Eddy Raven', 'Raining On Our Love by Shania Twain', \"That Rock Won't Roll by Restless Heart\", \"I'm Not Worth the Tears by Dolly Parton\", 'Hey Joe by Carl Smith', 'In A Letter To You by Eddy Raven', 'Cincinnati, Ohio by Connie Smith', 'Like A Hurricane by Eddy Raven', 'I\\'m Throwing Rice (At the Girl I Love) - (Featured in the Columbia film \"Hoedown\") by Eddy Arnold', 'In The Sweet By And By by Deborah Allen', 'Jezebel - Stories Album Version by Barbara Fairchild', 'Angel Band by Porter Wagoner', 'It Makes No Difference Now by Billie Jo Spears', 'Letter to Heaven by Dolly Parton', 'Bad Seed by Jan Howard', 'Lizzie And The Rain Man by Billie Jo Spears', 'Wasted Days And Wasted Nights by Roy Drusky', 'When Jesus Comes Calling For Me by Dolly Parton', 'Making Believe - 1955 Single Version by Kitty Wells', 'Permanently Lonely by Billie Jo Spears', 'Old Shep by Red Foley', 'That Little Ole Wine Drinker Me - Original by Charlie Walker', 'This White Circle On My Finger by Kitty Wells', 'Biloxi by Kenny Price', 'I Will Always Love You by Deborah Allen', \"You're Welcome to Tonight - Duet with Lynn Anderson by Gary Morris\", 'Heart Of Dixie by Tommy Overstreet', 'Following You Around by Gail Davies', \"I'm Running Out Of Love by Dolly Parton\", 'Enclosed, One Broken Heart by Eddy Arnold', \"Let's Stop Talkin' About It by Janie Fricke\", 'Country Rose by Roy Drusky', \"Just a Little Lovin' (Will Go a Long, Long Way) by Eddy Arnold\", 'If I Talk to Him by Connie Smith', 'I Know That Car by Eddy Raven', 'Got The Bull By The Horns by Johnny Horton', \"I'll Meet You In The Morning by Barbara Fairchild\", \"Don't Say Goodbye by Rex Allen, Jr.\", \"If You Don't Somebody Else Will by Carl Smith\", 'If A Woman Answers (Hang Up The Phone) by Leroy Van Dyke', 'Just Between The Two Of Us by Charlie Louvin', \"I'm Thinking Tonight Of My Blue Eyes - Live by Dolly Parton\", 'Three Hearts in a Tangle by Roy Drusky', 'Worried Mind by Roy Drusky', 'The Woman I Need (Honky Tonk Mind) by Johnny Horton', 'If I Miss You Again Tonight by Tommy Overstreet', \"Choc'late Ice Cream Cone by Red Foley\", 'Two Hearts One Love by Shania Twain', \"Ruby Don't Take Your Love To Town by Ed Bruce\", 'Angel Fire by Eddy Raven', 'Love And Wealth by Charlie Louvin', \"If I Couldn't Hold Back The Dawn by Carl Smith\", 'Danny (Ruby Baby) by Billie Jo Spears', 'Misty Blue by Billie Jo Spears', 'Is It Wrong (For Loving You) by Warner Mack', 'Comfort Creek - Stories Album Version by Barbara Fairchild', 'Molly Darling by Eddy Arnold', \"I Can't Be Your Man by Porter Wagoner\", 'Second Hand Rose by Roy Drusky', 'I Could Use Another You - Digital Re-Recording by Eddy Raven', 'The Battle Of New Orleans by Johnny Horton', \"'57 Chevrolet by Billie Jo Spears\", 'My Pillow - Single Version by Roger Miller', 'Just One Time by Connie Smith', \"What's He Doin' In My World by Eddy Arnold\", 'Country Girl by Dottie West', 'Superman by Donna Fargo', 'The Golden Rocket by Johnny Horton', 'Husbands and Wives by Roger Miller', 'I Wonder Where You Are Tonight by Carl Smith', 'Funny How Time Slips Away by Roy Drusky', 'See The Big Man Cry by Charlie Louvin', \"I'll Be Yours by Faron Young\", 'Go And Wash Those Dirty Feet by Johnny Horton']\n"
     ]
    }
   ],
   "source": [
    "song_name = \"It's All Wrong, but It's All Right\"\n",
    "recommendations = recommend_songs(song_name, songs_df)\n",
    "\n",
    "print(f\"Recommended songs for '{song_name}':\")\n",
    "print(recommendations)"
   ]
  },
  {
   "cell_type": "code",
   "execution_count": 9,
   "metadata": {},
   "outputs": [
    {
     "name": "stdout",
     "output_type": "stream",
     "text": [
      "Recommended songs for 'Blue Orchid':\n",
      "[\"I'm Slowly Turning Into You by The White Stripes\", 'A Martyr for My Love for You by The White Stripes']\n"
     ]
    }
   ],
   "source": [
    "song_name = \"Blue Orchid\"\n",
    "recommendations = recommend_songs(song_name, songs_df)\n",
    "\n",
    "print(f\"Recommended songs for '{song_name}':\")\n",
    "print(recommendations)"
   ]
  }
 ],
 "metadata": {
  "kernelspec": {
   "display_name": ".venv",
   "language": "python",
   "name": "python3"
  },
  "language_info": {
   "codemirror_mode": {
    "name": "ipython",
    "version": 3
   },
   "file_extension": ".py",
   "mimetype": "text/x-python",
   "name": "python",
   "nbconvert_exporter": "python",
   "pygments_lexer": "ipython3",
   "version": "3.12.8"
  }
 },
 "nbformat": 4,
 "nbformat_minor": 2
}
